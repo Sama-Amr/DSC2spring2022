{
 "cells": [
  {
   "cell_type": "code",
   "execution_count": 2,
   "id": "b64e9c24",
   "metadata": {},
   "outputs": [],
   "source": [
    "import numpy as np\n"
   ]
  },
  {
   "cell_type": "code",
   "execution_count": 6,
   "id": "be0cbae7",
   "metadata": {},
   "outputs": [],
   "source": [
    "x=np.random.random(10)\n"
   ]
  },
  {
   "cell_type": "code",
   "execution_count": 7,
   "id": "95151c83",
   "metadata": {},
   "outputs": [
    {
     "data": {
      "text/plain": [
       "array([0.29646922, 0.36087008, 0.93202306, 0.03952093, 0.98738448,\n",
       "       0.07012392, 0.15957342, 0.50290819, 0.73407644, 0.22634315])"
      ]
     },
     "execution_count": 7,
     "metadata": {},
     "output_type": "execute_result"
    }
   ],
   "source": [
    "x\n"
   ]
  },
  {
   "cell_type": "code",
   "execution_count": null,
   "id": "cf05d53c",
  },
  {
  {
   "metadata": {},
   "outputs": [],
   "source": []
  }
 ],
 "metadata": {
  "kernelspec": {
   "display_name": "Python 3 (ipykernel)",
   "language": "python",
   "name": "python3"
  },
  "language_info": {
   "codemirror_mode": {
    "name": "ipython",
    "version": 3
   },
   "file_extension": ".py",
   "mimetype": "text/x-python",
   "name": "python",
   "nbconvert_exporter": "python",
   "pygments_lexer": "ipython3",
   "version": "3.9.7"
  }
 },
 "nbformat": 4,
 "nbformat_minor": 5
}
